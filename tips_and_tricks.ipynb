{
 "cells": [
  {
   "cell_type": "markdown",
   "id": "5883d837-f762-4a2c-b08b-be76a3030e77",
   "metadata": {},
   "source": [
    "Useful bioinformatics code."
   ]
  },
  {
   "cell_type": "markdown",
   "id": "d81375c8-17c9-47b5-a757-79c338fceb9a",
   "metadata": {},
   "source": [
    "**Validate if it's a DNA string**"
   ]
  },
  {
   "cell_type": "code",
   "execution_count": 1,
   "id": "46ac83c8-4abe-4c20-b631-e7aae8f9ec28",
   "metadata": {},
   "outputs": [],
   "source": [
    "DNA_nucleotides = ['A', 'C', 'G', 'T']\n",
    "def validate_seq(seq):\n",
    "    \"\"\"\n",
    "    check if it's DNA string\n",
    "    \"\"\"\n",
    "    tmpseq = seq.upper()\n",
    "    for nuc in tmpseq:\n",
    "        if nuc not in DNA_nucleotides:\n",
    "            return False\n",
    "        return tmpseq"
   ]
  },
  {
   "cell_type": "markdown",
   "id": "c137cd1c-4590-4884-90fd-141328c1b534",
   "metadata": {},
   "source": [
    "**Create a random DNA string**"
   ]
  },
  {
   "cell_type": "code",
   "execution_count": null,
   "id": "5f3c2f94-e0b1-430e-b0d0-7048836111ad",
   "metadata": {},
   "outputs": [],
   "source": [
    "import random\n",
    "\n",
    "# Creating a random DNA sequence for testing:\n",
    "randDNAStr = ''.join([random.choice(DNA_Nucleotides)\n",
    "                      for nuc in range(50)])"
   ]
  },
  {
   "cell_type": "markdown",
   "id": "47694d13-e62e-4996-9cf0-d65a22065c35",
   "metadata": {},
   "source": [
    "**Count nucleotides in a given sequence and return their frequence**"
   ]
  },
  {
   "cell_type": "code",
   "execution_count": 2,
   "id": "83e18e60-04e6-42fb-bf3c-ecc1aa51482c",
   "metadata": {},
   "outputs": [],
   "source": [
    "def nuc_freq(seq):\n",
    "    \"\"\"\n",
    "    count nucleotides in a given sequence\n",
    "    Return a dictionary\n",
    "    \"\"\"\n",
    "    dtmpfreq = {'A' : 0, 'T': 0, 'C': 0, 'G' : 0}\n",
    "    for nuc in seq:\n",
    "        dtmpfreq[nuc] += 1\n",
    "    return dtmpfreq"
   ]
  },
  {
   "cell_type": "markdown",
   "id": "489a1641-83ec-4694-80b5-00021aa088a9",
   "metadata": {},
   "source": [
    "**Transcription: DNA->RNA**"
   ]
  },
  {
   "cell_type": "code",
   "execution_count": null,
   "id": "72027c18-1687-4115-9c37-62acbd5e2ecb",
   "metadata": {},
   "outputs": [],
   "source": [
    "def transcription(seq):\n",
    "    \"\"\"\n",
    "    DNA -> RNA\n",
    "    Replacing Thymine (T) with Uracil (U)\n",
    "    \"\"\"\n",
    "    return seq.replace('T', 'U')"
   ]
  },
  {
   "cell_type": "markdown",
   "id": "6aa7069f-be7e-4ee1-b071-530c8ebef6be",
   "metadata": {},
   "source": [
    "**GC content**"
   ]
  },
  {
   "cell_type": "code",
   "execution_count": 3,
   "id": "91221661-66de-4da2-8dc2-8248161b8c9a",
   "metadata": {},
   "outputs": [],
   "source": [
    "def gc_content(seq):\n",
    "    \"\"\"\n",
    "    GC content in a DNA seq\n",
    "    \"\"\"\n",
    "    return round((seq.count('C') + seq.count('G')) / len(seq) * 100)"
   ]
  },
  {
   "cell_type": "markdown",
   "id": "38376c0d-fbb3-4b99-889c-83ea4d32b3a5",
   "metadata": {},
   "source": [
    "**Parse fasta files**"
   ]
  },
  {
   "cell_type": "code",
   "execution_count": 4,
   "id": "ef543bc0-de68-4fab-af05-577b5eb8e428",
   "metadata": {},
   "outputs": [],
   "source": [
    "def read_fasta(file):\n",
    "    \"\"\"\n",
    "    Parse fasta file\n",
    "    Returns a tuple of ids and a list of sequences\n",
    "    \"\"\"\n",
    "    count = 0\n",
    "    headers = []\n",
    "    seq = []\n",
    "    aux = []\n",
    "    with open (file, 'r') as infile:\n",
    "        for line in infile:\n",
    "            record = line.rstrip()\n",
    "            if record and record[0] == '>':\n",
    "                headers.append(record[1:])\n",
    "                if count > 0:\n",
    "                    seq.append(''.join(aux))\n",
    "                    aux = []\n",
    "            else:\n",
    "                aux.append(record)\n",
    "            count += 1\n",
    "            \n",
    "    seq.append(''.join(aux))\n",
    "    return headers, seq"
   ]
  },
  {
   "cell_type": "markdown",
   "id": "f2d38c5a-7804-4969-8ae7-63c1cbdf36cf",
   "metadata": {},
   "source": [
    "**Calculate the GC content of a DNA seq**"
   ]
  },
  {
   "cell_type": "code",
   "execution_count": 7,
   "id": "12fec064-5d38-477b-adc5-37bcae5cf7ab",
   "metadata": {},
   "outputs": [],
   "source": [
    "def gc_content(seq):\n",
    "    \"\"\"\n",
    "    GC content in a DNA seq\n",
    "    \"\"\"\n",
    "    return (seq.count('C') + seq.count('G')) / len(seq) * 100"
   ]
  },
  {
   "cell_type": "markdown",
   "id": "2b9e1efc-66ec-4afa-9e85-554c15291669",
   "metadata": {},
   "source": [
    "**Get the higher GC content id and %GC of a multiple fasta file**"
   ]
  },
  {
   "cell_type": "code",
   "execution_count": 8,
   "id": "bcfd814c-e599-40ae-9238-c17137d2e58b",
   "metadata": {},
   "outputs": [],
   "source": [
    "def get_higherGC(seqs, ids):\n",
    "    \"\"\"\n",
    "    Get the id and the GC% of sequence with the highest GC%\n",
    "    seqs = list of DNA sequences\n",
    "    ids = list of ids\n",
    "    \"\"\"\n",
    "    gc = list()\n",
    "    for i in seqs:\n",
    "        gc.append(gc_content(i))\n",
    "        max_index = gc.index(max(gc))\n",
    "        max_gc = max(gc)\n",
    "        max_id = ids[max_index]\n",
    "    \n",
    "    return max_id, max_gc"
   ]
  },
  {
   "cell_type": "markdown",
   "id": "be56a383-dcab-4d15-bb32-036c14a2c48b",
   "metadata": {},
   "source": [
    "**Count point mutations**"
   ]
  },
  {
   "cell_type": "code",
   "execution_count": 6,
   "id": "9400ed9e-c5a0-41c7-9090-591603998755",
   "metadata": {},
   "outputs": [],
   "source": [
    "def count_point_mutations(seq1, seq2):\n",
    "    \"\"\"\n",
    "    Count the number of point mutations\n",
    "    aka. sequence mismatches\n",
    "    Two sequences with the same nucleotide distance\n",
    "    \"\"\"\n",
    "    count=-1\n",
    "    mm=0\n",
    "    for letter in range(len(seq1) - 1):\n",
    "        count+=1\n",
    "        if seq1[count] != seq2[count]:\n",
    "            mm+=1\n",
    "        else:\n",
    "            pass\n",
    "    \n",
    "    return mm"
   ]
  },
  {
   "cell_type": "code",
   "execution_count": null,
   "id": "be46de81-9a46-4209-a775-efcbc4455f10",
   "metadata": {},
   "outputs": [],
   "source": []
  }
 ],
 "metadata": {
  "kernelspec": {
   "display_name": "Python 3 (ipykernel)",
   "language": "python",
   "name": "python3"
  },
  "language_info": {
   "codemirror_mode": {
    "name": "ipython",
    "version": 3
   },
   "file_extension": ".py",
   "mimetype": "text/x-python",
   "name": "python",
   "nbconvert_exporter": "python",
   "pygments_lexer": "ipython3",
   "version": "3.9.7"
  }
 },
 "nbformat": 4,
 "nbformat_minor": 5
}
